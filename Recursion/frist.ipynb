{
 "cells": [
  {
   "cell_type": "code",
   "execution_count": 42,
   "id": "10e57d28",
   "metadata": {},
   "outputs": [
    {
     "name": "stdout",
     "output_type": "stream",
     "text": [
      "Ayush\n",
      "Ayush\n",
      "Ayush\n",
      "Ayush\n",
      "Ayush\n"
     ]
    }
   ],
   "source": [
    "def fuc(count):\n",
    "    if count == 5:   # base condition\n",
    "        return\n",
    "    print(\"Ayush\")\n",
    "    fuc(count + 1)\n",
    "   # recursive acall\n",
    "\n",
    "fuc(0)   # starting from 0\n"
   ]
  },
  {
   "cell_type": "code",
   "execution_count": 41,
   "id": "0fb823da",
   "metadata": {},
   "outputs": [
    {
     "name": "stdout",
     "output_type": "stream",
     "text": [
      "ayush\n",
      "ayush\n",
      "ayush\n",
      "ayush\n",
      "ayush\n",
      "ayush\n",
      "ayush\n",
      "ayush\n",
      "ayush\n",
      "ayush\n",
      "ayush\n",
      "ayush\n",
      "ayush\n",
      "ayush\n"
     ]
    }
   ],
   "source": [
    "# recurssive funtion N \n",
    "def a(n, c):\n",
    "  if c ==0:\n",
    "    return \n",
    "  print(n)\n",
    "  a(n,c-1)\n",
    "a(\"ayush\",14)\n",
    "# perameterised  recursion"
   ]
  },
  {
   "cell_type": "code",
   "execution_count": 43,
   "id": "1ea7f2a8",
   "metadata": {},
   "outputs": [
    {
     "name": "stdout",
     "output_type": "stream",
     "text": [
      "BABU\n",
      "BABU\n",
      "BABU\n",
      "BABU\n",
      "BABU\n"
     ]
    }
   ],
   "source": [
    "def AP(N,C):\n",
    "  if C== 0:\n",
    "    return\n",
    "  print(N)\n",
    "  AP(N,C-1)\n",
    "AP(\"BABU\",5)\n",
    "  "
   ]
  },
  {
   "cell_type": "code",
   "execution_count": 45,
   "id": "a846bca4",
   "metadata": {},
   "outputs": [
    {
     "name": "stdout",
     "output_type": "stream",
     "text": [
      "4\n",
      "3\n",
      "2\n",
      "1\n"
     ]
    }
   ],
   "source": [
    "# N to 1 Tail side \n",
    "def func(i,n):\n",
    "  if i >n:\n",
    "    return\n",
    "  func(i+1,n)\n",
    "  print(i)\n",
    "func(1,4)"
   ]
  },
  {
   "cell_type": "code",
   "execution_count": 46,
   "id": "2e415c2c",
   "metadata": {},
   "outputs": [
    {
     "name": "stdout",
     "output_type": "stream",
     "text": [
      "5\n",
      "4\n",
      "3\n",
      "2\n",
      "1\n"
     ]
    }
   ],
   "source": [
    "\n",
    "def func(n):\n",
    "  if n == 0:\n",
    "    return\n",
    "  print(n)\n",
    "  func(n-1)\n",
    "func(5)"
   ]
  },
  {
   "cell_type": "code",
   "execution_count": null,
   "id": "939a5087",
   "metadata": {},
   "outputs": [
    {
     "name": "stdout",
     "output_type": "stream",
     "text": [
      "21\n"
     ]
    }
   ],
   "source": [
    "def fun(sum,i,n):\n",
    "  if i>n:\n",
    "    print(sum)\n",
    "    return \n",
    "  fun(sum+i,i+1,n)\n",
    "fun(0,1,6)\n",
    "\n",
    "  \n",
    "# 1+2+3+4+5+6+"
   ]
  },
  {
   "cell_type": "code",
   "execution_count": null,
   "id": "9657d0c3",
   "metadata": {},
   "outputs": [
    {
     "data": {
      "text/plain": [
       "37"
      ]
     },
     "execution_count": 63,
     "metadata": {},
     "output_type": "execute_result"
    }
   ],
   "source": [
    "def fun(n):\n",
    "  if n==0:\n",
    "    return 1\n",
    "  return n+fun(n-1)\n",
    "fun(8)\n"
   ]
  }
 ],
 "metadata": {
  "kernelspec": {
   "display_name": "base",
   "language": "python",
   "name": "python3"
  },
  "language_info": {
   "codemirror_mode": {
    "name": "ipython",
    "version": 3
   },
   "file_extension": ".py",
   "mimetype": "text/x-python",
   "name": "python",
   "nbconvert_exporter": "python",
   "pygments_lexer": "ipython3",
   "version": "3.13.5"
  }
 },
 "nbformat": 4,
 "nbformat_minor": 5
}
