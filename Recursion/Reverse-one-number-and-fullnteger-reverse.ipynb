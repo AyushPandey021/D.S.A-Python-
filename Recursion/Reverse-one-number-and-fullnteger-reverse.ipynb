{
 "cells": [
  {
   "cell_type": "code",
   "execution_count": 2,
   "id": "8ef72125",
   "metadata": {},
   "outputs": [
    {
     "name": "stdout",
     "output_type": "stream",
     "text": [
      "[6, 1, 2, 3, 4, 5]\n"
     ]
    }
   ],
   "source": [
    "# Reverse one element  in recusion\n",
    "def A1(N,L,R):\n",
    "  if L > R :\n",
    "    return\n",
    "  else:\n",
    "    N[L],N[R]=N[R],N[L]\n",
    "    A1(N,L+1,R)\n",
    "def reverse(N):\n",
    "  A1(N,0,len(N)-1)\n",
    "  return N\n",
    "\n",
    "list=[1,2,3,4,5,6]\n",
    "print(reverse(list))"
   ]
  },
  {
   "cell_type": "code",
   "execution_count": 1,
   "id": "48a8be27",
   "metadata": {},
   "outputs": [
    {
     "name": "stdout",
     "output_type": "stream",
     "text": [
      "[6, 5, 4, 3, 1]\n"
     ]
    }
   ],
   "source": [
    "# reverse in while \n",
    "def A():\n",
    "  arr= [1,3,4,5,6]\n",
    "  start=0 \n",
    "  end=len(arr)-1\n",
    "  while start<end:\n",
    "   arr[start],arr[end]=arr[end],arr[start]\n",
    "   start+=1\n",
    "   end-=1\n",
    "  \n",
    "  return arr\n",
    "reversed_arr = A()\n",
    "print(reversed_arr)\n",
    "\n",
    "\n",
    "\n",
    " "
   ]
  },
  {
   "cell_type": "code",
   "execution_count": null,
   "id": "3f46ef9b",
   "metadata": {},
   "outputs": [],
   "source": []
  },
  {
   "cell_type": "code",
   "execution_count": null,
   "id": "874e9995",
   "metadata": {},
   "outputs": [],
   "source": []
  },
  {
   "cell_type": "code",
   "execution_count": 17,
   "id": "b9209189",
   "metadata": {},
   "outputs": [
    {
     "name": "stdout",
     "output_type": "stream",
     "text": [
      "-46\n",
      "100.0\n",
      "101\n"
     ]
    }
   ],
   "source": [
    "import math \n",
    "print(math.floor(-45.3456))\n",
    "print (math.fabs(100))\n",
    "print (math.ceil(100.72))\n"
   ]
  },
  {
   "cell_type": "code",
   "execution_count": 26,
   "id": "2b4d7820",
   "metadata": {},
   "outputs": [
    {
     "name": "stdout",
     "output_type": "stream",
     "text": [
      "120\n",
      "10.99\n",
      "100.01\n",
      "16.0\n"
     ]
    }
   ],
   "source": [
    "import math\n",
    "print(math.factorial(5))\n",
    "5*4*3*2*1\n",
    "print(math.fabs(10.99))\n",
    "print(math.fabs(-100.01))\n",
    "\n",
    "\n",
    "print(math.pow(2,4))"
   ]
  },
  {
   "cell_type": "code",
   "execution_count": 37,
   "id": "67580030",
   "metadata": {},
   "outputs": [
    {
     "name": "stdout",
     "output_type": "stream",
     "text": [
      "18.0\n",
      "6.0\n",
      "18.0\n",
      "18.0\n"
     ]
    }
   ],
   "source": [
    "import math\n",
    "print(math.fsum([5,7,2,4]))\n",
    "print(math.fsum([4,2]))\n",
    "print(math.fsum({5,7,2,4}))\n",
    "print(math.fsum((5,7,2,4)))"
   ]
  },
  {
   "cell_type": "code",
   "execution_count": 41,
   "id": "a4abf2a5",
   "metadata": {},
   "outputs": [
    {
     "data": {
      "text/plain": [
       "25.199206336708304"
      ]
     },
     "execution_count": 41,
     "metadata": {},
     "output_type": "execute_result"
    }
   ],
   "source": [
    "math.sqrt(635 )"
   ]
  },
  {
   "cell_type": "code",
   "execution_count": 35,
   "id": "91878179",
   "metadata": {},
   "outputs": [
    {
     "name": "stdout",
     "output_type": "stream",
     "text": [
      "45.45678\n",
      "100.12\n"
     ]
    }
   ],
   "source": [
    "print(abs(-45.45678))\n",
    "print(abs(-100.12))"
   ]
  }
 ],
 "metadata": {
  "kernelspec": {
   "display_name": "base",
   "language": "python",
   "name": "python3"
  },
  "language_info": {
   "codemirror_mode": {
    "name": "ipython",
    "version": 3
   },
   "file_extension": ".py",
   "mimetype": "text/x-python",
   "name": "python",
   "nbconvert_exporter": "python",
   "pygments_lexer": "ipython3",
   "version": "3.13.5"
  }
 },
 "nbformat": 4,
 "nbformat_minor": 5
}
