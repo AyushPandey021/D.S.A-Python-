{
 "cells": [
  {
   "cell_type": "code",
   "execution_count": 36,
   "id": "0c19dcf5",
   "metadata": {},
   "outputs": [
    {
     "name": "stdout",
     "output_type": "stream",
     "text": [
      "[1, 5, 17, 85]\n"
     ]
    }
   ],
   "source": [
    "# find divisor factor \n",
    "x = int(input(\"Write a number to find factor \"))\n",
    "result= []\n",
    "for i in range(1, x //2):\n",
    "  if x % i == 0:\n",
    "    result.append(i)\n",
    "result.append(x)\n",
    "print(result)"
   ]
  },
  {
   "cell_type": "code",
   "execution_count": null,
   "id": "3f44db20",
   "metadata": {},
   "outputs": [
    {
     "name": "stdout",
     "output_type": "stream",
     "text": [
      "9\n",
      "5\n",
      "4\n"
     ]
    }
   ],
   "source": []
  }
 ],
 "metadata": {
  "kernelspec": {
   "display_name": "base",
   "language": "python",
   "name": "python3"
  },
  "language_info": {
   "codemirror_mode": {
    "name": "ipython",
    "version": 3
   },
   "file_extension": ".py",
   "mimetype": "text/x-python",
   "name": "python",
   "nbconvert_exporter": "python",
   "pygments_lexer": "ipython3",
   "version": "3.13.5"
  }
 },
 "nbformat": 4,
 "nbformat_minor": 5
}
