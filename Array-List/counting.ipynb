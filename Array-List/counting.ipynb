{
 "cells": [
  {
   "cell_type": "code",
   "execution_count": 53,
   "id": "a9e33f5f",
   "metadata": {},
   "outputs": [
    {
     "name": "stdout",
     "output_type": "stream",
     "text": [
      "9\n"
     ]
    }
   ],
   "source": [
    "# count the digit in your varible\n",
    "# mathod=1\n",
    "x =852587412\n",
    "\n",
    "num = x \n",
    "count = 0 \n",
    "while num> 0:\n",
    "  count+=1\n",
    "  num //= 10\n",
    "   \n",
    "    \n",
    "print(count)\n",
    "  "
   ]
  },
  {
   "cell_type": "code",
   "execution_count": 52,
   "id": "bfaa4b1c",
   "metadata": {},
   "outputs": [
    {
     "data": {
      "text/plain": [
       "6"
      ]
     },
     "execution_count": 52,
     "metadata": {},
     "output_type": "execute_result"
    }
   ],
   "source": [
    "# count with funtion\n",
    "def counti(x):\n",
    "\n",
    " val=0\n",
    "\n",
    " while x>0:\n",
    "  val+=1\n",
    "  x//=10\n",
    " return val\n",
    "counti(626234)"
   ]
  },
  {
   "cell_type": "code",
   "execution_count": 51,
   "id": "5d692469",
   "metadata": {},
   "outputs": [
    {
     "name": "stdout",
     "output_type": "stream",
     "text": [
      "3\n"
     ]
    }
   ],
   "source": [
    "# count number object funtion mathod\n",
    "class Count_number:\n",
    "  def counti(self,x):\n",
    "\n",
    "   val=0\n",
    "\n",
    "   while x>0:\n",
    "     val+=1\n",
    "     x//=10\n",
    "   return val\n",
    "num = Count_number()\n",
    "print(num.counti(741))\n"
   ]
  },
  {
   "cell_type": "markdown",
   "id": "7e5ebcd8",
   "metadata": {},
   "source": []
  },
  {
   "cell_type": "code",
   "execution_count": 14,
   "id": "ad2b28fb",
   "metadata": {},
   "outputs": [
    {
     "name": "stdout",
     "output_type": "stream",
     "text": [
      "2\n"
     ]
    }
   ],
   "source": [
    "# mathod = 2\n",
    "from math import *\n",
    "\n",
    "\n",
    "x = 34\n",
    "\n",
    "r = int(log10(x)+1)\n",
    "print(r)"
   ]
  },
  {
   "cell_type": "code",
   "execution_count": 42,
   "id": "8a9d8209",
   "metadata": {},
   "outputs": [
    {
     "name": "stdout",
     "output_type": "stream",
     "text": [
      "[1, 2, 6]\n"
     ]
    }
   ],
   "source": [
    "num = 6\n",
    "result = []\n",
    "for i in range(1,num //2):\n",
    "  if num %i == 0:\n",
    "   result.append(i)\n",
    "result.append(num)\n",
    "print(result) "
   ]
  },
  {
   "cell_type": "code",
   "execution_count": 50,
   "id": "d27df95e",
   "metadata": {},
   "outputs": [
    {
     "name": "stdout",
     "output_type": "stream",
     "text": [
      "3\n"
     ]
    }
   ],
   "source": []
  },
  {
   "cell_type": "code",
   "execution_count": null,
   "id": "4f269cdc",
   "metadata": {},
   "outputs": [],
   "source": [
    "s= \"the day is sunny the the \\\n",
    "the sunny is is\"\n",
    "result  = \"\"\n",
    "for char in s:\n",
    "  if char  not in result:\n",
    "    result +=char\n",
    "print(result)\n",
    "# Remove  Duplicate in String "
   ]
  },
  {
   "cell_type": "code",
   "execution_count": null,
   "id": "10b82086",
   "metadata": {},
   "outputs": [],
   "source": [
    "# print last digit \n",
    "n = 459\n",
    "num = n \n",
    "while num > 0:\n",
    "  l_digit = num %10\n",
    "  print(l_digit)\n",
    "  num=num//10"
   ]
  },
  {
   "cell_type": "code",
   "execution_count": null,
   "id": "f04d752b",
   "metadata": {},
   "outputs": [
    {
     "name": "stdout",
     "output_type": "stream",
     "text": [
      "25 x 1 = 25\n",
      "25 x 2 = 50\n",
      "25 x 3 = 75\n",
      "25 x 4 = 100\n",
      "25 x 5 = 125\n",
      "25 x 6 = 150\n",
      "25 x 7 = 175\n",
      "25 x 8 = 200\n",
      "25 x 9 = 225\n",
      "25 x 10 = 250\n",
      "25 x 11 = 275\n",
      "25 x 12 = 300\n",
      "25 x 13 = 325\n",
      "25 x 14 = 350\n",
      "25 x 15 = 375\n",
      "25 x 16 = 400\n",
      "25 x 17 = 425\n",
      "25 x 18 = 450\n",
      "25 x 19 = 475\n",
      "25 x 20 = 500\n"
     ]
    }
   ],
   "source": [
    "\n",
    "def tab(n):\n",
    "\n",
    " for i in range(1,21):\n",
    "  print(f\"{n} x {i} = {n*i}\")\n",
    "\n",
    "tab(25)\n"
   ]
  }
 ],
 "metadata": {
  "kernelspec": {
   "display_name": "base",
   "language": "python",
   "name": "python3"
  },
  "language_info": {
   "codemirror_mode": {
    "name": "ipython",
    "version": 3
   },
   "file_extension": ".py",
   "mimetype": "text/x-python",
   "name": "python",
   "nbconvert_exporter": "python",
   "pygments_lexer": "ipython3",
   "version": "3.13.5"
  }
 },
 "nbformat": 4,
 "nbformat_minor": 5
}
