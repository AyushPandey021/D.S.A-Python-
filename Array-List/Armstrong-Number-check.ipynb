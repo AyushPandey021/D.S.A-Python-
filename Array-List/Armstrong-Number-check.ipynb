{
 "cells": [
  {
   "cell_type": "code",
   "execution_count": 6,
   "id": "b17a232e",
   "metadata": {},
   "outputs": [
    {
     "name": "stdout",
     "output_type": "stream",
     "text": [
      "yes\n"
     ]
    }
   ],
   "source": [
    "# Armstrong Number\n",
    "x = 153\n",
    "num= x\n",
    "check = 0\n",
    "n= len(str(x))\n",
    "while num >0:\n",
    "  id = num % 10 \n",
    "  check = check+(id**n)\n",
    "  num//=10 \n",
    "if x == check:\n",
    "  print(\"yes\")\n",
    "else:\n",
    "  print(\"not\")"
   ]
  }
 ],
 "metadata": {
  "kernelspec": {
   "display_name": "Python 3",
   "language": "python",
   "name": "python3"
  },
  "language_info": {
   "codemirror_mode": {
    "name": "ipython",
    "version": 3
   },
   "file_extension": ".py",
   "mimetype": "text/x-python",
   "name": "python",
   "nbconvert_exporter": "python",
   "pygments_lexer": "ipython3",
   "version": "3.13.0"
  }
 },
 "nbformat": 4,
 "nbformat_minor": 5
}
