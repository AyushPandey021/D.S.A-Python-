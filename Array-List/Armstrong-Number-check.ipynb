{
 "cells": [
  {
   "cell_type": "code",
   "execution_count": 1,
   "id": "b17a232e",
   "metadata": {},
   "outputs": [
    {
     "name": "stdout",
     "output_type": "stream",
     "text": [
      "yes\n"
     ]
    }
   ],
   "source": [
    "# Armstrong Number\n",
    "x = 153\n",
    "num= x\n",
    "check = 0\n",
    "n= len(str(x))\n",
    "while num >0:\n",
    "  id = num % 10 \n",
    "  check = check+(id**n)\n",
    "  num//=10 \n",
    "if x == check:\n",
    "  print(\"yes\")\n",
    "else:\n",
    "  print(\"not\")"
   ]
  },
  {
   "cell_type": "code",
   "execution_count": 19,
   "id": "54a6b234",
   "metadata": {},
   "outputs": [
    {
     "name": "stdout",
     "output_type": "stream",
     "text": [
      "1\n",
      "2\n",
      "3\n",
      "4\n",
      "5\n"
     ]
    }
   ],
   "source": [
    "i = 1\n",
    "while i <= 5:\n",
    "    print(i)\n",
    "    i += 1   # i ko 1 se increase karna zaroori hai warna infinite loop ban jayega\n"
   ]
  },
  {
   "cell_type": "code",
   "execution_count": 25,
   "id": "831a3aa8",
   "metadata": {},
   "outputs": [
    {
     "name": "stdout",
     "output_type": "stream",
     "text": [
      "1 1\n",
      "1 2\n",
      "1 3\n",
      "2 1\n",
      "2 2\n",
      "2 3\n",
      "3 1\n",
      "3 2\n",
      "3 3\n"
     ]
    }
   ],
   "source": [
    "for i in range(1, 4):        # outer loop\n",
    "    for j in range(1, 4):    # inner loop\n",
    "        print(i, j)\n"
   ]
  }
 ],
 "metadata": {
  "kernelspec": {
   "display_name": "Python 3",
   "language": "python",
   "name": "python3"
  },
  "language_info": {
   "codemirror_mode": {
    "name": "ipython",
    "version": 3
   },
   "file_extension": ".py",
   "mimetype": "text/x-python",
   "name": "python",
   "nbconvert_exporter": "python",
   "pygments_lexer": "ipython3",
   "version": "3.13.0"
  }
 },
 "nbformat": 4,
 "nbformat_minor": 5
}
