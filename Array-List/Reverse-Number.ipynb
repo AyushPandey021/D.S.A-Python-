{
 "cells": [
  {
   "cell_type": "code",
   "execution_count": null,
   "id": "d0976dc4",
   "metadata": {},
   "outputs": [
    {
     "name": "stdout",
     "output_type": "stream",
     "text": [
      "not\n"
     ]
    }
   ],
   "source": [
    "# Reverse the Number not String\n",
    "x =5833\n",
    "\n",
    "if x < 0:\n",
    "  print(False)\n",
    "a = x \n",
    "r = 0 \n",
    "\n",
    "while x>0:\n",
    "  r  = r*10+a%10\n",
    "  x //=10\n",
    "print(x + r)"
   ]
  },
  {
   "cell_type": "code",
   "execution_count": null,
   "id": "a611f4c5",
   "metadata": {},
   "outputs": [],
   "source": []
  },
  {
   "cell_type": "code",
   "execution_count": 5,
   "id": "7226cc15",
   "metadata": {},
   "outputs": [
    {
     "name": "stdout",
     "output_type": "stream",
     "text": [
      "53\n"
     ]
    }
   ],
   "source": [
    "# in funtion \n",
    "def num(x):\n",
    "  if x>0:\n",
    "   n = x \n",
    "   k= 0 \n",
    "  while n>0:\n",
    "   k = k*10+n%10\n",
    "   n//=10\n",
    "  print(n+k)\n",
    "num(35)"
   ]
  },
  {
   "cell_type": "code",
   "execution_count": null,
   "id": "743b75e4",
   "metadata": {},
   "outputs": [],
   "source": []
  },
  {
   "cell_type": "code",
   "execution_count": 6,
   "id": "696f7919",
   "metadata": {},
   "outputs": [
    {
     "name": "stdout",
     "output_type": "stream",
     "text": [
      "463\n"
     ]
    }
   ],
   "source": [
    "# Reverse the integer in object funtion  \n",
    "class Solve:\n",
    "  def reverse(self,x):\n",
    "    if x>0:\n",
    "     n=x\n",
    "     k=0 \n",
    "     while n>0:\n",
    "       k = k*10 + n%10\n",
    "       n//=10 \n",
    "    return k \n",
    "run = Solve()\n",
    "print(run.reverse(364))"
   ]
  }
 ],
 "metadata": {
  "kernelspec": {
   "display_name": "Python 3",
   "language": "python",
   "name": "python3"
  },
  "language_info": {
   "codemirror_mode": {
    "name": "ipython",
    "version": 3
   },
   "file_extension": ".py",
   "mimetype": "text/x-python",
   "name": "python",
   "nbconvert_exporter": "python",
   "pygments_lexer": "ipython3",
   "version": "3.13.0"
  }
 },
 "nbformat": 4,
 "nbformat_minor": 5
}
