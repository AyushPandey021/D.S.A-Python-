{
 "cells": [
  {
   "cell_type": "code",
   "execution_count": 40,
   "id": "ea84e7a2",
   "metadata": {},
   "outputs": [
    {
     "data": {
      "text/plain": [
       "'\\nCreating features in Dynamic Array \\ncreate \\nlen \\nappend \\nprint\\nindexing \\npop \\nclear \\nfind \\ninsert \\ndelete \\nremove \\n\\nsort/min/max/sum \\n'"
      ]
     },
     "execution_count": 40,
     "metadata": {},
     "output_type": "execute_result"
    }
   ],
   "source": [
    "\"\"\"\n",
    "Creating features in Dynamic Array \n",
    "create \n",
    "len \n",
    "append \n",
    "print\n",
    "indexing \n",
    "pop \n",
    "clear \n",
    "find \n",
    "insert \n",
    "delete \n",
    "remove \n",
    "\n",
    "sort/min/max/sum \n",
    "\"\"\""
   ]
  },
  {
   "cell_type": "code",
   "execution_count": 41,
   "id": "f69bb214",
   "metadata": {},
   "outputs": [],
   "source": [
    "import ctypes \n",
    "# create\n",
    "\n",
    "# ctypes = its python library , its provide C compatible Data type \n",
    "class myList:\n",
    "  def __init__(self):\n",
    "    self.size = 1 \n",
    "    self.n = 0 \n",
    "    # create a c type array with size self.size\n",
    "    self.A = self._create_Array(self.size)\n",
    "# for length  showing\n",
    "  def __len__(self):\n",
    "    return self.n \n",
    "    # Print  list\n",
    "  def __str__(self):\n",
    "    #[1,2,4,5]\n",
    "    result = ''\n",
    "    for i in range(self.n):\n",
    "      result = result + str(self.A[i])  +  ','\n",
    "    return '['+result[:-1]+']' #print the result with [] brakets and remove the last ,(coma) to slice last value  \n",
    "#   add find with indexing \n",
    "  def __getitem__(self,index): \n",
    "    if 0<index < self.n:\n",
    "     return self.A[index]\n",
    "    else: \n",
    "\n",
    "     return 'Index Error - Index out of range'\n",
    "# add  remove feature\n",
    "  def remove(self,item):  \n",
    "    pos = self.find(item)\n",
    "    if type(pos) == int:\n",
    "      # delete\n",
    "      self.__delitem__(pos)\n",
    "    else: \n",
    "      return pos\n",
    "  \n",
    "  def __delitem__(self,pos):\n",
    "    # delete code \n",
    "    if 0<= pos <self.n:\n",
    "     for i in range(pos,self.n-1):\n",
    "\n",
    "      self.A[i] = self.A[i+1]\n",
    "     self.n = self.n-1\n",
    "\n",
    "  def append(self,item):\n",
    "    if self.n == self.size: \n",
    "    \n",
    "      self.__resize(self.size*2)\n",
    "      #  Append \n",
    "    self.A[self.n] = item\n",
    "    self.n = self.n + 1 \n",
    "       #  pop the value\n",
    "  def pop(self):\n",
    "     if self.n == 0:\n",
    "       return 'Empty list'\n",
    "     print(self.A[self.n-1])\n",
    "     self.n = self.n -1\n",
    "\n",
    "  # add clear mathod \n",
    "  def clear(self):\n",
    "    self.n= 0\n",
    "    self.size = 1\n",
    "  #  add find feature\n",
    "  def find(self,item):\n",
    "    for i in range(self.n):\n",
    "      if self.A[i] == item:\n",
    "        return i\n",
    "    return \"ValueError - Not in list \"\n",
    "  \n",
    "  # insert feature \n",
    "  def insert(self,pos,item):\n",
    "    if self.n== self.size:\n",
    "      self.__resize(self.size*2)\n",
    "    for i in  range(self.n,pos,-1):\n",
    "      self.A[i]= self.A[i-1]\n",
    "    self.A[pos]= item\n",
    "    self.n = self.n + 1 \n",
    "  def __resize(self,new_capacity):\n",
    " \n",
    "    \n",
    "      # create a new arraty with new capacity\n",
    "    B =  self._create_Array(new_capacity)\n",
    "    self.size =  new_capacity\n",
    "    #  copy the content of A to B \n",
    "\n",
    "    for i in range(self.n):\n",
    "      B[i]= self.A[i]\n",
    "      # reassign  A\n",
    "    self.A = B \n",
    "  def _create_Array(self,capacity):\n",
    "      # its create a C(c-lenguage) type array(static,referential) with size capacity\n",
    "    return (capacity*ctypes.py_object)()\n",
    "\n"
   ]
  },
  {
   "cell_type": "code",
   "execution_count": 42,
   "id": "bf41b336",
   "metadata": {},
   "outputs": [],
   "source": [
    "#assign with l \n",
    "l = myList()"
   ]
  },
  {
   "cell_type": "code",
   "execution_count": 43,
   "id": "59b6f347",
   "metadata": {},
   "outputs": [],
   "source": [
    "# creating the Dynamic append code appends the multi-data values \n",
    "\n",
    "l.append(\"hello\")\n",
    "l.append(3.5)\n",
    "l.append(True)\n",
    "l.append(23)\n",
    "l.append(\"Ayush\")\n",
    "\n",
    "\n"
   ]
  },
  {
   "cell_type": "code",
   "execution_count": 44,
   "id": "7c1a7998",
   "metadata": {},
   "outputs": [
    {
     "name": "stdout",
     "output_type": "stream",
     "text": [
      "[hello,3.5,True,23,Ayush]\n"
     ]
    }
   ],
   "source": [
    "# printing code and print the dynamic list \n",
    "print(l)"
   ]
  },
  {
   "cell_type": "code",
   "execution_count": 45,
   "id": "ad94adc6",
   "metadata": {},
   "outputs": [
    {
     "data": {
      "text/plain": [
       "True"
      ]
     },
     "execution_count": 45,
     "metadata": {},
     "output_type": "execute_result"
    }
   ],
   "source": [
    "# add  indexing find not  with not get  error msg \n",
    "l[2]"
   ]
  },
  {
   "cell_type": "code",
   "execution_count": 46,
   "id": "edf7ab7c",
   "metadata": {},
   "outputs": [
    {
     "name": "stdout",
     "output_type": "stream",
     "text": [
      "Ayush\n",
      "[hello,3.5,True,23]\n"
     ]
    }
   ],
   "source": [
    "# pop mathod working pop the value frist print pop value and check the list \n",
    "l.pop()\n",
    "print(l)"
   ]
  },
  {
   "cell_type": "code",
   "execution_count": 47,
   "id": "df34ec97",
   "metadata": {},
   "outputs": [],
   "source": [
    "# add clear mathod use to clear all value in list \n",
    "# l.clear() \n",
    "#   i am stop that because  list always clear \n",
    "\n"
   ]
  },
  {
   "cell_type": "code",
   "execution_count": 48,
   "id": "d3a27eb8",
   "metadata": {},
   "outputs": [
    {
     "data": {
      "text/plain": [
       "0"
      ]
     },
     "execution_count": 48,
     "metadata": {},
     "output_type": "execute_result"
    }
   ],
   "source": [
    "# add find the list values, by indexing  \n",
    "\n",
    "l.find(\"hello\")\n",
    "\n",
    "\n"
   ]
  },
  {
   "cell_type": "code",
   "execution_count": 49,
   "id": "cbacc131",
   "metadata": {},
   "outputs": [],
   "source": [
    "# insert features\n",
    "\n",
    "l.insert(0,\"DSA\")\n",
    "#  index to insert place \n",
    "# right value to insert "
   ]
  },
  {
   "cell_type": "code",
   "execution_count": 50,
   "id": "fcc5cc99",
   "metadata": {},
   "outputs": [
    {
     "name": "stdout",
     "output_type": "stream",
     "text": [
      "[DSA,hello,3.5,True,23]\n"
     ]
    }
   ],
   "source": [
    "print(l)"
   ]
  },
  {
   "cell_type": "code",
   "execution_count": 51,
   "id": "bce5f043",
   "metadata": {},
   "outputs": [
    {
     "name": "stdout",
     "output_type": "stream",
     "text": [
      "[DSA,hello,3.5,True,23]\n",
      "[DSA,hello,True,23]\n"
     ]
    }
   ],
   "source": [
    "# delete feature \n",
    "# its totaly diffrent of clear its delete value one by one \n",
    "# delete by index \n",
    "print(l)\n",
    "del l[2]\n",
    "print(l)"
   ]
  },
  {
   "cell_type": "code",
   "execution_count": 52,
   "id": "d3d7f3fc",
   "metadata": {},
   "outputs": [
    {
     "name": "stdout",
     "output_type": "stream",
     "text": [
      "[hello,True,23]\n"
     ]
    }
   ],
   "source": [
    "# create Remove functnality\n",
    "l.remove(\"DSA\")\n",
    "print(l)"
   ]
  },
  {
   "cell_type": "code",
   "execution_count": 53,
   "id": "f5ebf6d2",
   "metadata": {},
   "outputs": [
    {
     "name": "stdout",
     "output_type": "stream",
     "text": [
      "[hello,True,23]\n"
     ]
    }
   ],
   "source": [
    "print(l)"
   ]
  },
  {
   "cell_type": "code",
   "execution_count": 54,
   "id": "3ce71a2e",
   "metadata": {},
   "outputs": [],
   "source": [
    "l.append(\"hello\")\n",
    "l.append(3.5)\n",
    "l.append(True)\n",
    "l.append(23)\n",
    "l.append(\"Ayush\")\n"
   ]
  },
  {
   "cell_type": "code",
   "execution_count": null,
   "id": "f1853b76",
   "metadata": {},
   "outputs": [],
   "source": []
  },
  {
   "cell_type": "code",
   "execution_count": null,
   "id": "521bdbf1",
   "metadata": {},
   "outputs": [],
   "source": []
  },
  {
   "cell_type": "code",
   "execution_count": null,
   "id": "b445ace8",
   "metadata": {},
   "outputs": [],
   "source": []
  },
  {
   "cell_type": "code",
   "execution_count": null,
   "id": "32fa010b",
   "metadata": {},
   "outputs": [],
   "source": []
  },
  {
   "cell_type": "code",
   "execution_count": null,
   "id": "b58a5b87",
   "metadata": {},
   "outputs": [],
   "source": []
  },
  {
   "cell_type": "code",
   "execution_count": null,
   "id": "02c037c2",
   "metadata": {},
   "outputs": [],
   "source": []
  },
  {
   "cell_type": "code",
   "execution_count": null,
   "id": "e2469649",
   "metadata": {},
   "outputs": [],
   "source": []
  },
  {
   "cell_type": "code",
   "execution_count": null,
   "id": "5ad5ac6e",
   "metadata": {},
   "outputs": [],
   "source": []
  },
  {
   "cell_type": "code",
   "execution_count": null,
   "id": "55e6136d",
   "metadata": {},
   "outputs": [],
   "source": []
  },
  {
   "cell_type": "code",
   "execution_count": null,
   "id": "5ac92210",
   "metadata": {},
   "outputs": [],
   "source": []
  },
  {
   "cell_type": "code",
   "execution_count": null,
   "id": "b72741ac",
   "metadata": {},
   "outputs": [],
   "source": []
  },
  {
   "cell_type": "markdown",
   "id": "bce44e14",
   "metadata": {},
   "source": []
  }
 ],
 "metadata": {
  "kernelspec": {
   "display_name": "base",
   "language": "python",
   "name": "python3"
  },
  "language_info": {
   "codemirror_mode": {
    "name": "ipython",
    "version": 3
   },
   "file_extension": ".py",
   "mimetype": "text/x-python",
   "name": "python",
   "nbconvert_exporter": "python",
   "pygments_lexer": "ipython3",
   "version": "3.13.5"
  }
 },
 "nbformat": 4,
 "nbformat_minor": 5
}
