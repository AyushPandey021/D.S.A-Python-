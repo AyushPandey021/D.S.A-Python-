{
 "cells": [
  {
   "cell_type": "code",
   "execution_count": 84,
   "id": "80a87654",
   "metadata": {},
   "outputs": [],
   "source": [
    "# createing manualy linked list \n",
    "class node:\n",
    "  def __init__(self,value):\n",
    "    self.data= value\n",
    "    self.next = None\n",
    "    a = node(1)\n",
    "    b = node(2)\n",
    "    c = node(3)\n",
    "    d = node(4)"
   ]
  },
  {
   "cell_type": "code",
   "execution_count": 85,
   "id": "896ae132",
   "metadata": {},
   "outputs": [
    {
     "ename": "NameError",
     "evalue": "name 'a' is not defined",
     "output_type": "error",
     "traceback": [
      "\u001b[31m---------------------------------------------------------------------------\u001b[39m",
      "\u001b[31mNameError\u001b[39m                                 Traceback (most recent call last)",
      "\u001b[36mCell\u001b[39m\u001b[36m \u001b[39m\u001b[32mIn[85]\u001b[39m\u001b[32m, line 1\u001b[39m\n\u001b[32m----> \u001b[39m\u001b[32m1\u001b[39m \u001b[38;5;28mprint\u001b[39m(\u001b[43ma\u001b[49m.next)\n",
      "\u001b[31mNameError\u001b[39m: name 'a' is not defined"
     ]
    }
   ],
   "source": [
    "print(a.next)"
   ]
  },
  {
   "cell_type": "code",
   "execution_count": null,
   "id": "73000672",
   "metadata": {},
   "outputs": [],
   "source": []
  },
  {
   "cell_type": "code",
   "execution_count": null,
   "id": "81ca7394",
   "metadata": {},
   "outputs": [],
   "source": []
  },
  {
   "cell_type": "code",
   "execution_count": null,
   "id": "42716031",
   "metadata": {},
   "outputs": [
    {
     "name": "stdout",
     "output_type": "stream",
     "text": [
      "<__main__.node object at 0x0000026AB5B82710>\n"
     ]
    }
   ],
   "source": []
  },
  {
   "cell_type": "code",
   "execution_count": null,
   "id": "6f8a08ce",
   "metadata": {},
   "outputs": [
    {
     "name": "stdout",
     "output_type": "stream",
     "text": [
      "<__main__.node object at 0x0000026AB5B82710>\n"
     ]
    },
    {
     "data": {
      "text/plain": [
       "2657345259680"
      ]
     },
     "execution_count": 79,
     "metadata": {},
     "output_type": "execute_result"
    }
   ],
   "source": [
    "print(a.next)# its given the hex value so its convert in int\n",
    "\n",
    "int(0x0000026AB61EC8A0)\n"
   ]
  },
  {
   "cell_type": "code",
   "execution_count": null,
   "id": "1c731c67",
   "metadata": {},
   "outputs": [],
   "source": [
    "\n",
    "# working linked list\n",
    "class Node:\n",
    "    def __init__(self, data):\n",
    "        self.data = data\n",
    "        self.next = None \n",
    "class LinkedList:\n",
    "  def __init__(self):\n",
    "    # create empty linked list frist\n",
    "#⏭️ how to know list empty or not => so Head will be Null is called LinkedList is empty (no data )  \n",
    "   self.head=None \n",
    "   self.n = 0  # show number of nodes\n",
    "  def __len__(self):\n",
    "       # LL len count with nodes \n",
    "    return self.n\n",
    "  def insert_head(self,value):\n",
    "    # new node \n",
    "    new_node =Node(value)\n",
    "    # create connection\n",
    "    new_node.next = self.head  \n",
    "    # reassign head \n",
    "    self.head = new_node\n",
    "\n",
    "# increament n\n",
    "    self.n = self.n + 1\n",
    "\n",
    "# traverse the vlaue printing linerly \n",
    "  def __str__(self):\n",
    "    curr = self.head\n",
    "    result = ' '\n",
    "    while curr != None:\n",
    "      result = result + str(curr.data)+ '->'\n",
    "      curr = curr.next\n",
    "    return result[:-2]\n",
    "  # value append feature \n",
    " \n",
    "\n",
    "  def append(self,value):\n",
    "   new_node= Node(value)\n",
    "   \n",
    "   if self.head  == None:\n",
    "    # is empty so \n",
    "    self.head = new_node \n",
    "    self.n = self.n+1\n",
    "    return\n",
    "  \n",
    "   \n",
    "   curr= self.head\n",
    "   while curr.next != None:\n",
    "      curr = curr.next\n",
    "    # you are at the last node \n",
    "   curr.next = new_node\n",
    "   self.n = self.n+1\n",
    "  # ✅ insert after value (insert in middle )\n",
    "  def insert_after(self, after, value):\n",
    "    new_node = Node(value)\n",
    "    curr = self.head\n",
    "    \n",
    "    # Traverse to find the node containing 'after'\n",
    "    while curr != None:\n",
    "        if curr.data == after:\n",
    "          break\n",
    "        curr = curr.next\n",
    "    \n",
    "    # If the node is found, insert the new node after it\n",
    "    if curr !=  None:\n",
    "        new_node.next = curr.next\n",
    "        curr.next = new_node\n",
    "        self.n = self.n+ 1\n",
    "       \n",
    "    \n",
    "    else:\n",
    "        return 'Item not found'\n",
    "\n",
    "# clear and empty array \n",
    "  def clear(self):\n",
    "     self.head = None \n",
    "     self.n = 0 \n",
    "# delete from head \n",
    "  def delete_head(self):\n",
    "    if self.head == None:\n",
    "      #  empty \n",
    "       return \"Empty LL\"\n",
    "    \n",
    "       \n",
    "    self.head = self.head.next\n",
    "    self.n = self.n- 1\n",
    "# ✅delete from tail same to pop \n",
    "  def pop(self):\n",
    "    if self.head == None:\n",
    "     return 'Empty LL'\n",
    "    curr = self.head\n",
    "    if curr.next == None:\n",
    "      return self.delete_head()\n",
    "    #  kya isme ek item h\n",
    "    while curr.next.next != None :\n",
    "      curr = curr.next\n",
    "      # cuu => 2nd last node \n",
    "      curr.next = None\n",
    "      self.n = self.n- 1\n",
    "\n",
    "     \n",
    "      \n",
    "\n",
    "   \n",
    "\n"
   ]
  },
  {
   "cell_type": "code",
   "execution_count": null,
   "id": "8c9f1982",
   "metadata": {},
   "outputs": [],
   "source": [
    "l=LinkedList()"
   ]
  },
  {
   "cell_type": "code",
   "execution_count": null,
   "id": "5a940d15",
   "metadata": {},
   "outputs": [
    {
     "data": {
      "text/plain": [
       "11"
      ]
     },
     "execution_count": 83,
     "metadata": {},
     "output_type": "execute_result"
    }
   ],
   "source": [
    "\n",
    "# 1️⃣insertion in node with head side \n",
    "l.insert_head(1)\n",
    "l.insert_head(2)\n",
    "l.insert_head(3)\n",
    "l.insert_head(4)\n",
    "\n",
    "len(l)"
   ]
  },
  {
   "cell_type": "code",
   "execution_count": null,
   "id": "825dccf9",
   "metadata": {},
   "outputs": [],
   "source": [
    "# insert in middile of any value \n",
    "# l.insert_after(4,800)"
   ]
  },
  {
   "cell_type": "code",
   "execution_count": null,
   "id": "62e6ee31",
   "metadata": {},
   "outputs": [],
   "source": [
    "# clear and empty list \n",
    "# l.clear()"
   ]
  },
  {
   "cell_type": "code",
   "execution_count": null,
   "id": "337efbff",
   "metadata": {},
   "outputs": [],
   "source": [
    "# delete the vlaue node in head side one by one\n",
    "# l.delete_head()"
   ]
  },
  {
   "cell_type": "code",
   "execution_count": 86,
   "id": "8b64238b",
   "metadata": {},
   "outputs": [
    {
     "name": "stdout",
     "output_type": "stream",
     "text": [
      " 4->3->2->1->4->3\n"
     ]
    }
   ],
   "source": [
    "print(l)"
   ]
  },
  {
   "cell_type": "code",
   "execution_count": 95,
   "id": "e21187a1",
   "metadata": {},
   "outputs": [],
   "source": [
    "# pop value\n",
    "l.pop()"
   ]
  },
  {
   "cell_type": "code",
   "execution_count": null,
   "id": "35e851f4",
   "metadata": {},
   "outputs": [],
   "source": []
  },
  {
   "cell_type": "code",
   "execution_count": 96,
   "id": "0b37e6b6",
   "metadata": {},
   "outputs": [
    {
     "name": "stdout",
     "output_type": "stream",
     "text": [
      " 4->3\n"
     ]
    }
   ],
   "source": [
    "# 2️⃣print traversing data \n",
    "print(l)\n",
    "# why disending because \n",
    "# firt add - 1 \n",
    "# second - 2\n",
    "# third -3 \n",
    "# fourth - 4 \n",
    "# so count by head so 4 in head, its insert in  last time to be haed in list "
   ]
  },
  {
   "cell_type": "code",
   "execution_count": null,
   "id": "3583a1cc",
   "metadata": {},
   "outputs": [
    {
     "ename": "AttributeError",
     "evalue": "'LinkedList' object has no attribute 'delete_head'",
     "output_type": "error",
     "traceback": [
      "\u001b[31m---------------------------------------------------------------------------\u001b[39m",
      "\u001b[31mAttributeError\u001b[39m                            Traceback (most recent call last)",
      "\u001b[36mCell\u001b[39m\u001b[36m \u001b[39m\u001b[32mIn[162]\u001b[39m\u001b[32m, line 2\u001b[39m\n\u001b[32m      1\u001b[39m \u001b[38;5;66;03m# middle in insert\u001b[39;00m\n\u001b[32m----> \u001b[39m\u001b[32m2\u001b[39m \u001b[43ml\u001b[49m\u001b[43m.\u001b[49m\u001b[43mdelete_head\u001b[49m()\n",
      "\u001b[31mAttributeError\u001b[39m: 'LinkedList' object has no attribute 'delete_head'"
     ]
    }
   ],
   "source": [
    "# middle in insert\n"
   ]
  },
  {
   "cell_type": "code",
   "execution_count": null,
   "id": "e4d68b7f",
   "metadata": {},
   "outputs": [],
   "source": [
    "# Empty list ✅"
   ]
  }
 ],
 "metadata": {
  "kernelspec": {
   "display_name": "base",
   "language": "python",
   "name": "python3"
  },
  "language_info": {
   "codemirror_mode": {
    "name": "ipython",
    "version": 3
   },
   "file_extension": ".py",
   "mimetype": "text/x-python",
   "name": "python",
   "nbconvert_exporter": "python",
   "pygments_lexer": "ipython3",
   "version": "3.13.5"
  }
 },
 "nbformat": 4,
 "nbformat_minor": 5
}
