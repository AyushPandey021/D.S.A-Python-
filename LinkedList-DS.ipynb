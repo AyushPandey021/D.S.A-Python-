{
 "cells": [
  {
   "cell_type": "code",
   "execution_count": 11,
   "id": "80a87654",
   "metadata": {},
   "outputs": [],
   "source": [
    "# createing manualy linked list \n",
    "class node:\n",
    "  def __init__(self,value):\n",
    "    self.data= value\n",
    "    self.next = None\n",
    "    a = node(1)\n",
    "    b = node(2)\n",
    "    c = node(3)\n",
    "    d = node(4)"
   ]
  },
  {
   "cell_type": "code",
   "execution_count": 12,
   "id": "896ae132",
   "metadata": {},
   "outputs": [
    {
     "ename": "NameError",
     "evalue": "name 'a' is not defined",
     "output_type": "error",
     "traceback": [
      "\u001b[31m---------------------------------------------------------------------------\u001b[39m",
      "\u001b[31mNameError\u001b[39m                                 Traceback (most recent call last)",
      "\u001b[36mCell\u001b[39m\u001b[36m \u001b[39m\u001b[32mIn[12]\u001b[39m\u001b[32m, line 1\u001b[39m\n\u001b[32m----> \u001b[39m\u001b[32m1\u001b[39m \u001b[38;5;28mprint\u001b[39m(\u001b[43ma\u001b[49m.next)\n",
      "\u001b[31mNameError\u001b[39m: name 'a' is not defined"
     ]
    }
   ],
   "source": [
    "print(a.next)"
   ]
  },
  {
   "cell_type": "code",
   "execution_count": null,
   "id": "73000672",
   "metadata": {},
   "outputs": [],
   "source": []
  },
  {
   "cell_type": "code",
   "execution_count": null,
   "id": "81ca7394",
   "metadata": {},
   "outputs": [],
   "source": []
  },
  {
   "cell_type": "code",
   "execution_count": null,
   "id": "42716031",
   "metadata": {},
   "outputs": [
    {
     "name": "stdout",
     "output_type": "stream",
     "text": [
      "<__main__.node object at 0x0000026AB5B82710>\n"
     ]
    }
   ],
   "source": []
  },
  {
   "cell_type": "code",
   "execution_count": null,
   "id": "6f8a08ce",
   "metadata": {},
   "outputs": [
    {
     "name": "stdout",
     "output_type": "stream",
     "text": [
      "<__main__.node object at 0x0000026AB5B82710>\n"
     ]
    },
    {
     "data": {
      "text/plain": [
       "2657345259680"
      ]
     },
     "execution_count": 79,
     "metadata": {},
     "output_type": "execute_result"
    }
   ],
   "source": [
    "print(a.next)# its given the hex value so its convert in int\n",
    "\n",
    "int(0x0000026AB61EC8A0)\n"
   ]
  },
  {
   "cell_type": "code",
   "execution_count": null,
   "id": "1c731c67",
   "metadata": {},
   "outputs": [],
   "source": [
    "# working linked list \n",
    "class LinkedList:\n",
    "  def __init__(self):\n",
    "    # create empty linked list frist\n",
    "#⏭️ how to know list empty or not => so Head will be Null is called LinkedList is empty (no data )  \n",
    "   self.head=None \n",
    "   self.n = 0  # show number of nodes\n",
    "  def __len__(self):\n",
    "       # LL len count with nodes \n",
    "    return self.n\n",
    "  def insert_head(self,value):\n",
    "    # new node \n",
    "    new_node = Node(value)\n",
    "    # create connection\n",
    "    new_node.next = self.head  \n",
    "    # reassign head \n",
    "    self.head = new_node\n",
    "\n",
    "# increament n\n",
    "    self.n = self.n + 1\n",
    "\n",
    "# traverse the vlaue printing linerly \n",
    "  def __str__(self):\n",
    "    curr = self.head\n",
    "    result = ' '\n",
    "    while curr != None:\n",
    "      result = result + str(curr.data)+ '->'\n",
    "      curr = curr.next\n",
    "    return result[:-2]\n",
    "\n",
    "\n",
    "     \n",
    "      \n",
    "\n",
    "   \n",
    "\n"
   ]
  },
  {
   "cell_type": "code",
   "execution_count": null,
   "id": "8c9f1982",
   "metadata": {},
   "outputs": [],
   "source": []
  },
  {
   "cell_type": "code",
   "execution_count": null,
   "id": "5a940d15",
   "metadata": {},
   "outputs": [
    {
     "ename": "NameError",
     "evalue": "name 'Node' is not defined",
     "output_type": "error",
     "traceback": [
      "\u001b[31m---------------------------------------------------------------------------\u001b[39m",
      "\u001b[31mNameError\u001b[39m                                 Traceback (most recent call last)",
      "\u001b[36mCell\u001b[39m\u001b[36m \u001b[39m\u001b[32mIn[5]\u001b[39m\u001b[32m, line 3\u001b[39m\n\u001b[32m      1\u001b[39m l=LinkedList()\n\u001b[32m      2\u001b[39m \u001b[38;5;66;03m# 1️⃣insertion in node with head side \u001b[39;00m\n\u001b[32m----> \u001b[39m\u001b[32m3\u001b[39m \u001b[43ml\u001b[49m\u001b[43m.\u001b[49m\u001b[43minsert_head\u001b[49m\u001b[43m(\u001b[49m\u001b[32;43m1\u001b[39;49m\u001b[43m)\u001b[49m\n\u001b[32m      4\u001b[39m l.insert_head(\u001b[32m2\u001b[39m)\n\u001b[32m      5\u001b[39m l.insert_head(\u001b[32m3\u001b[39m)\n",
      "\u001b[36mCell\u001b[39m\u001b[36m \u001b[39m\u001b[32mIn[1]\u001b[39m\u001b[32m, line 13\u001b[39m, in \u001b[36mLinkedList.insert_head\u001b[39m\u001b[34m(self, value)\u001b[39m\n\u001b[32m     11\u001b[39m \u001b[38;5;28;01mdef\u001b[39;00m\u001b[38;5;250m \u001b[39m\u001b[34minsert_head\u001b[39m(\u001b[38;5;28mself\u001b[39m,value):\n\u001b[32m     12\u001b[39m   \u001b[38;5;66;03m# new node \u001b[39;00m\n\u001b[32m---> \u001b[39m\u001b[32m13\u001b[39m   new_node = \u001b[43mNode\u001b[49m(value)\n\u001b[32m     14\u001b[39m   \u001b[38;5;66;03m# create connection\u001b[39;00m\n\u001b[32m     15\u001b[39m   new_node.next = \u001b[38;5;28mself\u001b[39m.head  \n",
      "\u001b[31mNameError\u001b[39m: name 'Node' is not defined"
     ]
    }
   ],
   "source": [
    "l=LinkedList()\n",
    "# 1️⃣insertion in node with head side \n",
    "l.insert_head(1)\n",
    "l.insert_head(2)\n",
    "l.insert_head(3)\n",
    "l.insert_head(4)\n",
    "len(l)"
   ]
  },
  {
   "cell_type": "code",
   "execution_count": 47,
   "id": "0b37e6b6",
   "metadata": {},
   "outputs": [
    {
     "ename": "TypeError",
     "evalue": "__str__ returned non-string (type NoneType)",
     "output_type": "error",
     "traceback": [
      "\u001b[31m---------------------------------------------------------------------------\u001b[39m",
      "\u001b[31mTypeError\u001b[39m                                 Traceback (most recent call last)",
      "\u001b[36mCell\u001b[39m\u001b[36m \u001b[39m\u001b[32mIn[47]\u001b[39m\u001b[32m, line 2\u001b[39m\n\u001b[32m      1\u001b[39m \u001b[38;5;66;03m# 2️⃣print traversing data \u001b[39;00m\n\u001b[32m----> \u001b[39m\u001b[32m2\u001b[39m \u001b[38;5;28;43mprint\u001b[39;49m\u001b[43m(\u001b[49m\u001b[43ml\u001b[49m\u001b[43m)\u001b[49m\n\u001b[32m      3\u001b[39m \u001b[38;5;66;03m# why disending because \u001b[39;00m\n\u001b[32m      4\u001b[39m \u001b[38;5;66;03m# firt add - 1 \u001b[39;00m\n\u001b[32m      5\u001b[39m \u001b[38;5;66;03m# second - 2\u001b[39;00m\n\u001b[32m      6\u001b[39m \u001b[38;5;66;03m# third -3 \u001b[39;00m\n\u001b[32m      7\u001b[39m \u001b[38;5;66;03m# fourth - 4 \u001b[39;00m\n\u001b[32m      8\u001b[39m \u001b[38;5;66;03m# so count by head so 4 in head, its insert in  last time to be haed in list \u001b[39;00m\n",
      "\u001b[31mTypeError\u001b[39m: __str__ returned non-string (type NoneType)"
     ]
    }
   ],
   "source": [
    "# 2️⃣print traversing data \n",
    "print(l)\n",
    "# why disending because \n",
    "# firt add - 1 \n",
    "# second - 2\n",
    "# third -3 \n",
    "# fourth - 4 \n",
    "# so count by head so 4 in head, its insert in  last time to be haed in list "
   ]
  },
  {
   "cell_type": "code",
   "execution_count": null,
   "id": "3583a1cc",
   "metadata": {},
   "outputs": [],
   "source": []
  },
  {
   "cell_type": "code",
   "execution_count": null,
   "id": "e4d68b7f",
   "metadata": {},
   "outputs": [],
   "source": []
  }
 ],
 "metadata": {
  "kernelspec": {
   "display_name": "base",
   "language": "python",
   "name": "python3"
  },
  "language_info": {
   "codemirror_mode": {
    "name": "ipython",
    "version": 3
   },
   "file_extension": ".py",
   "mimetype": "text/x-python",
   "name": "python",
   "nbconvert_exporter": "python",
   "pygments_lexer": "ipython3",
   "version": "3.13.5"
  }
 },
 "nbformat": 4,
 "nbformat_minor": 5
}
