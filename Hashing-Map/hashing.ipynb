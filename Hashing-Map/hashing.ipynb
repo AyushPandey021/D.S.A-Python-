{
 "cells": [
  {
   "cell_type": "code",
   "execution_count": null,
   "id": "16a61207",
   "metadata": {},
   "outputs": [
    {
     "ename": "TypeError",
     "evalue": "list indices must be integers or slices, not str",
     "output_type": "error",
     "traceback": [
      "\u001b[31m---------------------------------------------------------------------------\u001b[39m",
      "\u001b[31mTypeError\u001b[39m                                 Traceback (most recent call last)",
      "\u001b[36mCell\u001b[39m\u001b[36m \u001b[39m\u001b[32mIn[28]\u001b[39m\u001b[32m, line 9\u001b[39m\n\u001b[32m      7\u001b[39m H_list=[\u001b[32m0\u001b[39m]*\u001b[32m26\u001b[39m \u001b[38;5;66;03m# ye 1 se 10 ki wali value se check krega isliye 11 se divide hoga \u001b[39;00m\n\u001b[32m      8\u001b[39m \u001b[38;5;28;01mfor\u001b[39;00m num \u001b[38;5;129;01min\u001b[39;00m M:\n\u001b[32m----> \u001b[39m\u001b[32m9\u001b[39m   \u001b[43mH_list\u001b[49m\u001b[43m[\u001b[49m\u001b[43mnum\u001b[49m\u001b[43m]\u001b[49m+=num\n\u001b[32m     10\u001b[39m   \u001b[38;5;66;03m# ye bta rha h ki M ki value kitni bar  N me kitne bar repeat hui h count \u001b[39;00m\n\u001b[32m     11\u001b[39m \u001b[38;5;28;01mfor\u001b[39;00m num \u001b[38;5;129;01min\u001b[39;00m N:\n",
      "\u001b[31mTypeError\u001b[39m: list indices must be integers or slices, not str"
     ]
    }
   ],
   "source": [
    "# hashing :\n",
    "# prestoring value into same datastructure like list/Dictonary/sets and the fetchinh it.\n",
    "# understanding hashing\n",
    "M=[5,6,3,3,5,7,6,4,2,4]\n",
    "\n",
    "N=[2,5,3,6,7,3,6,8,9,4] \n",
    "H_list=[0]*26 # ye 1 se 10 ki wali value se check krega isliye 11 se divide hoga \n",
    "for num in M:\n",
    "  H_list[num]+=1\n",
    "  # ye bta rha h ki M ki value kitni bar  N me kitne bar repeat hui h count \n",
    "for num in N:\n",
    "  if num<1 or num>10:\n",
    "    print(0)\n",
    "  else:\n",
    "     \n",
    "   print(H_list[num])\n",
    "\n",
    "# mathod 1"
   ]
  },
  {
   "cell_type": "code",
   "execution_count": null,
   "id": "0a32e103",
   "metadata": {},
   "outputs": [
    {
     "name": "stdout",
     "output_type": "stream",
     "text": [
      "0\n",
      "1\n",
      "1\n",
      "1\n",
      "1\n"
     ]
    }
   ],
   "source": []
  },
  {
   "cell_type": "code",
   "execution_count": null,
   "id": "62690a9f",
   "metadata": {},
   "outputs": [],
   "source": []
  }
 ],
 "metadata": {
  "kernelspec": {
   "display_name": "base",
   "language": "python",
   "name": "python3"
  },
  "language_info": {
   "codemirror_mode": {
    "name": "ipython",
    "version": 3
   },
   "file_extension": ".py",
   "mimetype": "text/x-python",
   "name": "python",
   "nbconvert_exporter": "python",
   "pygments_lexer": "ipython3",
   "version": "3.13.5"
  }
 },
 "nbformat": 4,
 "nbformat_minor": 5
}
