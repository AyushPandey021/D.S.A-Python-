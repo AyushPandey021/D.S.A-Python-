{
 "cells": [
  {
   "cell_type": "code",
   "execution_count": null,
   "id": "16a61207",
   "metadata": {},
   "outputs": [
    {
     "name": "stdout",
     "output_type": "stream",
     "text": [
      "1\n",
      "3\n",
      "2\n",
      "2\n",
      "1\n",
      "2\n",
      "3\n",
      "3\n",
      "0\n",
      "1\n"
     ]
    }
   ],
   "source": [
    "# hashing :\n",
    "# prestoring value into same datastructure like list/Dictonary/sets and the fetchinh it.\n",
    "# understanding hashing\n",
    "M=[5,6,3,3,5,7,6,5,2,4]\n",
    "\n",
    "N=[2,5,3,6,7,3,5,5,9,4] \n",
    "H_list=[0]*11 # ye 1 se 10 ki wali value se check krega isliye 11 se divide hoga \n",
    "for num in M:\n",
    "  H_list[num]+=1\n",
    "# yha pr N , M ki value check kr rha jo vo N value se kitni baar repreat h \n",
    "for num in N:\n",
    "  if num<1 or num>10:\n",
    "    print(0)\n",
    "  else:\n",
    "     \n",
    "   print(H_list[num])\n",
    "\n",
    "# mathod 1"
   ]
  },
  {
   "cell_type": "code",
   "execution_count": null,
   "id": "0a32e103",
   "metadata": {},
   "outputs": [],
   "source": []
  },
  {
   "cell_type": "code",
   "execution_count": null,
   "id": "62690a9f",
   "metadata": {},
   "outputs": [],
   "source": []
  },
  {
   "cell_type": "code",
   "execution_count": 4,
   "id": "d9405387",
   "metadata": {},
   "outputs": [
    {
     "name": "stdout",
     "output_type": "stream",
     "text": [
      "1879869577776\n"
     ]
    }
   ],
   "source": [
    "x = 40\n",
    "y=600\n",
    "\n",
    "print(id(x+y))"
   ]
  },
  {
   "cell_type": "code",
   "execution_count": null,
   "id": "628bc905",
   "metadata": {},
   "outputs": [],
   "source": []
  },
  {
   "cell_type": "code",
   "execution_count": null,
   "id": "18fc0a4a",
   "metadata": {},
   "outputs": [],
   "source": []
  }
 ],
 "metadata": {
  "kernelspec": {
   "display_name": "base",
   "language": "python",
   "name": "python3"
  },
  "language_info": {
   "codemirror_mode": {
    "name": "ipython",
    "version": 3
   },
   "file_extension": ".py",
   "mimetype": "text/x-python",
   "name": "python",
   "nbconvert_exporter": "python",
   "pygments_lexer": "ipython3",
   "version": "3.13.5"
  }
 },
 "nbformat": 4,
 "nbformat_minor": 5
}
