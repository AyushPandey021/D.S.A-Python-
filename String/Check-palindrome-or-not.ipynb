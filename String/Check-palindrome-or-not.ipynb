{
 "cells": [
  {
   "cell_type": "code",
   "execution_count": null,
   "id": "48fe052f",
   "metadata": {},
   "outputs": [
    {
     "name": "stdout",
     "output_type": "stream",
     "text": [
      "yyes\n"
     ]
    }
   ],
   "source": []
  },
  {
   "cell_type": "code",
   "execution_count": null,
   "id": "3a0fd959",
   "metadata": {},
   "outputs": [
    {
     "name": "stdout",
     "output_type": "stream",
     "text": [
      "542\n"
     ]
    }
   ],
   "source": [
    "# Reverse the Number not String\n",
    "x = 245\n",
    "if x < 0:\n",
    "  print(False)\n",
    "a = x \n",
    "r = 0 \n",
    "while x>0:\n",
    "  r  =r*10+x%10\n",
    "  x //=10\n",
    "print(x + r)"
   ]
  },
  {
   "cell_type": "code",
   "execution_count": 22,
   "id": "385018f7",
   "metadata": {},
   "outputs": [
    {
     "name": "stdout",
     "output_type": "stream",
     "text": [
      "True\n"
     ]
    }
   ],
   "source": [
    "PyDataSet=[1,2,3]\n",
    "print(1 in PyDataSet)#True"
   ]
  },
  {
   "cell_type": "code",
   "execution_count": null,
   "id": "e0e11d1b",
   "metadata": {},
   "outputs": [
    {
     "name": "stdout",
     "output_type": "stream",
     "text": [
      "ayuishpnde \n"
     ]
    }
   ],
   "source": [
    "s= \"aaayuuuiuushpandey \"\n",
    "result  = \"\"\n",
    "for char in s:\n",
    "  if char not in result:\n",
    "    result +=char\n",
    "print(result)\n",
    "# Remove  Duplicate in String "
   ]
  }
 ],
 "metadata": {
  "kernelspec": {
   "display_name": "Python 3",
   "language": "python",
   "name": "python3"
  },
  "language_info": {
   "codemirror_mode": {
    "name": "ipython",
    "version": 3
   },
   "file_extension": ".py",
   "mimetype": "text/x-python",
   "name": "python",
   "nbconvert_exporter": "python",
   "pygments_lexer": "ipython3",
   "version": "3.13.0"
  }
 },
 "nbformat": 4,
 "nbformat_minor": 5
}
