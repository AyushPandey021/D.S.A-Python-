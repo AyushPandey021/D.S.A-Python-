{
 "cells": [
  {
   "cell_type": "code",
   "execution_count": 37,
   "id": "48fe052f",
   "metadata": {},
   "outputs": [
    {
     "name": "stdout",
     "output_type": "stream",
     "text": [
      "Reverse : 8558\n",
      "Palindrome Yes\n"
     ]
    }
   ],
   "source": [
    "# check number pilemdrone or not \n",
    "n= 8558\n",
    "num = n \n",
    "res = 0\n",
    "while num>0:\n",
    "  id = num%10\n",
    "  res = (res*10)+id\n",
    "  num//=10\n",
    "print( \"Reverse :\",res+num) #reverse your number\n",
    "if n==res:\n",
    "  print(\"Palindrome Yes\")\n",
    "else:\n",
    "  print(\"No Palindrome\")"
   ]
  },
  {
   "cell_type": "code",
   "execution_count": null,
   "id": "3a0fd959",
   "metadata": {},
   "outputs": [],
   "source": []
  },
  {
   "cell_type": "code",
   "execution_count": null,
   "id": "385018f7",
   "metadata": {},
   "outputs": [],
   "source": []
  },
  {
   "cell_type": "code",
   "execution_count": null,
   "id": "e0e11d1b",
   "metadata": {},
   "outputs": [],
   "source": []
  }
 ],
 "metadata": {
  "kernelspec": {
   "display_name": "Python 3",
   "language": "python",
   "name": "python3"
  },
  "language_info": {
   "codemirror_mode": {
    "name": "ipython",
    "version": 3
   },
   "file_extension": ".py",
   "mimetype": "text/x-python",
   "name": "python",
   "nbconvert_exporter": "python",
   "pygments_lexer": "ipython3",
   "version": "3.13.0"
  }
 },
 "nbformat": 4,
 "nbformat_minor": 5
}
