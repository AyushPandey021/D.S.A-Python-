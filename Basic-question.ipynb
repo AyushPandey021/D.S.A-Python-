{
 "cells": [
  {
   "cell_type": "code",
   "execution_count": 97,
   "id": "4437562b",
   "metadata": {},
   "outputs": [
    {
     "name": "stdout",
     "output_type": "stream",
     "text": [
      "its plinmdrom\n"
     ]
    }
   ],
   "source": [
    "# check plinmdrom or not \n",
    "i = \"naman\"\n",
    "if i[::-1]==i:\n",
    "  print(\"its plinmdrom\")\n",
    "else: \n",
    "  print(\"its not plinmdrom \")\n"
   ]
  },
  {
   "cell_type": "code",
   "execution_count": 98,
   "id": "04f0c677",
   "metadata": {},
   "outputs": [
    {
     "name": "stdout",
     "output_type": "stream",
     "text": [
      "syug olleh\n"
     ]
    }
   ],
   "source": [
    "# Reverse String \n",
    "a = \"hello guys\"\n",
    "b = a[::-1]\n",
    "print(b)"
   ]
  },
  {
   "cell_type": "code",
   "execution_count": null,
   "id": "23b9ed11",
   "metadata": {},
   "outputs": [],
   "source": []
  },
  {
   "cell_type": "code",
   "execution_count": 99,
   "id": "a3507faa",
   "metadata": {},
   "outputs": [
    {
     "name": "stdout",
     "output_type": "stream",
     "text": [
      "Vowels are 0 and constant are 0 \n"
     ]
    }
   ],
   "source": [
    "#count vowels and const in string \n",
    "val = input(\"enter \")\n",
    "y = \"aeiou\"\n",
    "count= 0 \n",
    "const =0\n",
    "for i in val.lower():\n",
    "  if i in y:\n",
    "    count += 1\n",
    "\n",
    "  else:\n",
    "    const+=1\n",
    "\n",
    "       \n",
    "print(f\"Vowels are {count} and constant are {const} \")\n"
   ]
  },
  {
   "cell_type": "code",
   "execution_count": null,
   "id": "6b91d08a",
   "metadata": {},
   "outputs": [
    {
     "name": "stdout",
     "output_type": "stream",
     "text": [
      "2\n"
     ]
    }
   ],
   "source": [
    "# find the missing one value in my list\n",
    "x = [1,3,4,5,6]\n",
    "l = len(x)+1\n",
    "sumis = l* (l+1) //2\n",
    "total= sum(x)\n",
    "print(sumis-total)\n",
    "\n"
   ]
  },
  {
   "cell_type": "code",
   "execution_count": 101,
   "id": "161f6cb3",
   "metadata": {},
   "outputs": [
    {
     "name": "stdout",
     "output_type": "stream",
     "text": [
      "[3, 2, 1, 5, 6]\n"
     ]
    }
   ],
   "source": [
    "# find the duplicates in the list\n",
    "arr = [1,5,3,4,2,3,2,1,5,6,3,23,6]\n",
    "dup =[]\n",
    "seta = set()\n",
    "for elem in arr:\n",
    "  if  elem in seta and elem not in dup:\n",
    "    dup.append(elem)\n",
    "  seta.add(elem)\n",
    "print(dup)"
   ]
  },
  {
   "cell_type": "code",
   "execution_count": 102,
   "id": "890f8ba4",
   "metadata": {},
   "outputs": [
    {
     "name": "stdout",
     "output_type": "stream",
     "text": [
      "[(1, 6), (1, 2), (3, 4), (11, 1)]\n"
     ]
    }
   ],
   "source": [
    "arr= [(1,6),(1,2),(11,1),(3,4),]\n",
    "sor = sorted(arr, key=lambda x:x[0])\n",
    "print(sor)\n"
   ]
  },
  {
   "cell_type": "code",
   "execution_count": 103,
   "id": "c1e7c94a",
   "metadata": {},
   "outputs": [
    {
     "name": "stdout",
     "output_type": "stream",
     "text": [
      "{'name': 'ayush', 'class': 23, 'sub': 'English'}\n"
     ]
    }
   ],
   "source": [
    "some={\n",
    "  \"name\": \"ayush\",\n",
    "  \"class\": 23,\n",
    "  \"sub\":\"English\"\n",
    "}\n",
    "print(some)"
   ]
  },
  {
   "cell_type": "code",
   "execution_count": 104,
   "id": "03484e2e",
   "metadata": {},
   "outputs": [
    {
     "ename": "ValueError",
     "evalue": "invalid literal for int() with base 10: ''",
     "output_type": "error",
     "traceback": [
      "\u001b[31m---------------------------------------------------------------------------\u001b[39m",
      "\u001b[31mValueError\u001b[39m                                Traceback (most recent call last)",
      "\u001b[36mCell\u001b[39m\u001b[36m \u001b[39m\u001b[32mIn[104]\u001b[39m\u001b[32m, line 2\u001b[39m\n\u001b[32m      1\u001b[39m \u001b[38;5;66;03m#sum of given number \u001b[39;00m\n\u001b[32m----> \u001b[39m\u001b[32m2\u001b[39m x = \u001b[38;5;28;43mint\u001b[39;49m\u001b[43m(\u001b[49m\u001b[38;5;28;43minput\u001b[39;49m\u001b[43m(\u001b[49m\u001b[33;43m\"\u001b[39;49m\u001b[33;43mentet\u001b[39;49m\u001b[33;43m\"\u001b[39;49m\u001b[43m)\u001b[49m\u001b[43m)\u001b[49m\n\u001b[32m      3\u001b[39m \u001b[38;5;28msum\u001b[39m = \u001b[32m0\u001b[39m \n\u001b[32m      4\u001b[39m \u001b[38;5;28;01mwhile\u001b[39;00m x>\u001b[32m0\u001b[39m:\n",
      "\u001b[31mValueError\u001b[39m: invalid literal for int() with base 10: ''"
     ]
    }
   ],
   "source": [
    "#sum of given number \n",
    "x = int(input(\"entet\"))\n",
    "sum = 0 \n",
    "while x>0:\n",
    "  sum += x%10\n",
    "  x //= 10\n",
    "  \n",
    "print(sum)\n"
   ]
  },
  {
   "cell_type": "code",
   "execution_count": null,
   "id": "f7d9ea7f",
   "metadata": {},
   "outputs": [
    {
     "name": "stdout",
     "output_type": "stream",
     "text": [
      "not prime\n",
      "not prime\n",
      "prime\n",
      "not prime\n",
      "not prime\n",
      "prime\n",
      "prime\n",
      "prime\n"
     ]
    }
   ],
   "source": [
    "# check prime number or not\n",
    "x = [22,4,5,6,8,3,2,1]\n",
    "for no in x:\n",
    " c = 0\n",
    " for i in range(2,no):\n",
    "    if no % i ==0 :\n",
    "      c += 1\n",
    " if c == 0:\n",
    "    print(\"prime\")\n",
    " else: \n",
    "    print(\"not prime\")"
   ]
  },
  {
   "cell_type": "code",
   "execution_count": null,
   "id": "9f63f171",
   "metadata": {},
   "outputs": [
    {
     "name": "stdout",
     "output_type": "stream",
     "text": [
      "7626\n"
     ]
    }
   ],
   "source": [
    "# sum of natural numbers from 1 to n\n",
    "x = int(input(\"enter a number to find sum of 1 to n: \"))\n",
    "sum = 0\n",
    "\n",
    "for i in range(1,x+1):\n",
    "  sum += i\n",
    "print(sum)"
   ]
  },
  {
   "cell_type": "code",
   "execution_count": null,
   "id": "65796ae2",
   "metadata": {},
   "outputs": [
    {
     "name": "stdout",
     "output_type": "stream",
     "text": [
      "0\n",
      "1\n",
      "1\n",
      "2\n",
      "3\n",
      "5\n",
      "8\n",
      "13\n",
      "21\n",
      "34\n",
      "55\n",
      "89\n",
      "144\n",
      "233\n",
      "377\n",
      "610\n",
      "987\n",
      "1597\n",
      "2584\n",
      "4181\n",
      "6765\n",
      "10946\n",
      "17711\n"
     ]
    }
   ],
   "source": [
    "# fibonachi series\n",
    "n = int(input(\"enter a number to find fibonachi series: \"))\n",
    "a = 0 \n",
    "b =1 \n",
    "for i in range(n):\n",
    "  print(a) \n",
    "  a,b=b,a+b"
   ]
  },
  {
   "cell_type": "code",
   "execution_count": null,
   "id": "bb2df491",
   "metadata": {},
   "outputs": [],
   "source": [
    "# amstrong number or not\n",
    "n = int(input(\"enter a number to check amstrong: \"))\n",
    "for i in range(x):\n",
    "  np = x\n",
    "  result = 0\n",
    "  "
   ]
  },
  {
   "cell_type": "code",
   "execution_count": null,
   "id": "cc07fdd2",
   "metadata": {},
   "outputs": [
    {
     "name": "stdout",
     "output_type": "stream",
     "text": [
      "prime\n"
     ]
    }
   ],
   "source": [
    "# prime of not check test \n",
    "n = int(input(\"enter a number to check: \"))\n",
    "c =0 \n",
    "for i in range(2,n):\n",
    "  if n%i==0:\n",
    "    c+=1\n",
    "if c ==0:\n",
    "  print(\"prime\")\n",
    "else:\n",
    "  print(\"not prime\")"
   ]
  },
  {
   "cell_type": "code",
   "execution_count": null,
   "id": "2a446166",
   "metadata": {},
   "outputs": [
    {
     "name": "stdout",
     "output_type": "stream",
     "text": [
      "15\n",
      "120\n"
     ]
    }
   ],
   "source": [
    "# sum of and divide\n",
    "l = [1,2,3,4 ,5 ]\n",
    "sum = 0 \n",
    "for i in l:\n",
    "  sum += i\n",
    "print(sum)\n",
    "Product  =1 \n",
    "for i in l:\n",
    "  Product = Product * i\n",
    "print(Product)\n",
    "\n"
   ]
  },
  {
   "cell_type": "code",
   "execution_count": null,
   "id": "0e3d3fab",
   "metadata": {},
   "outputs": [
    {
     "name": "stdout",
     "output_type": "stream",
     "text": [
      "(1,1)\n",
      "(1,2)\n",
      "(2,1)\n",
      "(2,2)\n"
     ]
    }
   ],
   "source": [
    "l = [1,2]\n",
    "for i in l: \n",
    "  for j in l:\n",
    "   print('({},{})'.format(i,j))\n"
   ]
  },
  {
   "cell_type": "code",
   "execution_count": null,
   "id": "c75cae29",
   "metadata": {},
   "outputs": [
    {
     "name": "stdout",
     "output_type": "stream",
     "text": [
      "26\n"
     ]
    }
   ],
   "source": [
    "x =[3,5,6,8,4]\n",
    "v= 0\n",
    "for i in x:\n",
    "  v+= i\n",
    "print(v)"
   ]
  },
  {
   "cell_type": "code",
   "execution_count": 105,
   "id": "384240c7",
   "metadata": {},
   "outputs": [
    {
     "ename": "ValueError",
     "evalue": "invalid literal for int() with base 10: ''",
     "output_type": "error",
     "traceback": [
      "\u001b[31m---------------------------------------------------------------------------\u001b[39m",
      "\u001b[31mValueError\u001b[39m                                Traceback (most recent call last)",
      "\u001b[36mCell\u001b[39m\u001b[36m \u001b[39m\u001b[32mIn[105]\u001b[39m\u001b[32m, line 1\u001b[39m\n\u001b[32m----> \u001b[39m\u001b[32m1\u001b[39m i = \u001b[38;5;28;43mint\u001b[39;49m\u001b[43m(\u001b[49m\u001b[38;5;28;43minput\u001b[39;49m\u001b[43m(\u001b[49m\u001b[33;43m\"\u001b[39;49m\u001b[33;43mEnter\u001b[39;49m\u001b[33;43m\"\u001b[39;49m\u001b[43m)\u001b[49m\u001b[43m)\u001b[49m\n\u001b[32m      2\u001b[39m \u001b[38;5;28msum\u001b[39m = \u001b[32m0\u001b[39m\n\u001b[32m      3\u001b[39m \u001b[38;5;28;01mfor\u001b[39;00m i \u001b[38;5;129;01min\u001b[39;00m \u001b[38;5;28mrange\u001b[39m(\u001b[32m1\u001b[39m,i+\u001b[32m1\u001b[39m):\n",
      "\u001b[31mValueError\u001b[39m: invalid literal for int() with base 10: ''"
     ]
    }
   ],
   "source": [
    "i = int(input(\"Enter\"))\n",
    "sum = 0\n",
    "for i in range(1,i+1):\n",
    "  sum += i # sum of n number\n",
    "  # sum *= i # factorial of n number\n",
    "\n",
    "\n",
    "\n",
    "\n",
    "\n",
    "\n",
    "\n",
    "\n",
    "\n",
    "\n",
    "\n",
    "\n",
    "\n",
    "\n",
    "\n",
    "\n",
    "\n",
    "\n",
    "\n",
    "\n",
    "\n",
    "\n",
    "\n",
    "\n",
    "\n",
    "\n",
    "\n",
    "\n",
    "\n",
    "\n",
    "\n",
    "\n",
    "\n",
    "\n",
    "\n",
    "\n",
    "\n",
    "\n",
    "\n",
    "\n",
    "\n",
    "\n",
    "\n",
    "\n",
    "\n",
    "\n",
    "\n",
    "\n",
    "\n",
    "\n",
    "\n",
    "\n",
    "\n",
    "\n",
    "\n",
    "\n",
    "\n",
    "\n",
    "\n",
    "\n",
    "\n",
    "\n",
    "\n",
    "\n",
    "\n",
    "\n",
    "\n",
    "\n",
    "\n",
    "\n",
    "\n",
    "\n",
    "\n",
    "\n",
    "\n",
    "\n",
    "\n",
    "\n",
    "\n",
    "\n",
    "\n",
    "\n",
    "\n",
    "\n",
    "\n",
    "\n",
    "\n",
    "\n",
    "\n",
    "\n",
    "\n",
    "\n",
    "\n",
    "\n",
    "\n",
    "\n",
    "\n",
    "\n",
    "\n",
    "\n",
    "\n",
    "\n",
    "\n",
    "\n",
    "\n",
    "\n",
    "\n",
    "\n",
    "\n",
    "\n",
    "\n",
    "\n",
    "\n",
    "\n",
    "\n",
    "\n",
    "\n",
    "\n",
    "\n",
    "\n",
    "\n",
    "\n",
    "\n",
    "\n",
    "\n",
    "\n",
    "\n",
    "\n",
    "\n",
    "\n",
    "\n",
    "\n",
    "\n",
    "\n",
    "\n",
    "\n",
    "\n",
    "\n",
    "\n",
    "\n",
    "\n",
    "\n",
    "\n",
    "\n",
    "\n",
    "\n",
    "\n",
    "\n",
    "\n",
    "\n",
    "\n",
    "\n",
    "\n",
    "\n",
    "\n",
    "\n",
    "\n",
    "\n",
    "\n",
    "\n",
    "\n",
    "\n",
    "\n",
    "\n",
    "\n",
    "\n",
    "\n",
    "\n",
    "\n",
    "\n",
    "\n",
    "\n",
    "\n",
    "\n",
    "\n",
    "\n",
    "\n",
    "\n",
    "\n",
    "\n",
    "\n",
    "\n",
    "\n",
    "\n",
    "\n",
    "\n",
    "\n",
    "\n",
    "\n",
    "\n",
    "\n",
    "\n",
    "\n",
    "\n",
    "\n",
    "\n",
    "\n",
    "\n",
    "\n",
    "\n",
    "\n",
    "\n",
    "\n",
    "\n",
    "\n",
    "\n",
    "\n",
    "\n",
    "\n",
    "\n",
    "\n",
    "\n",
    "\n",
    "\n",
    "\n",
    "\n",
    "\n",
    "\n",
    "\n",
    "\n",
    "\n",
    "\n",
    "\n",
    "\n",
    "\n",
    "\n",
    "\n",
    "\n",
    "\n",
    "\n",
    "\n",
    "\n",
    "\n",
    "\n",
    "\n",
    "\n",
    "\n",
    "\n",
    "\n",
    "\n",
    "\n",
    "\n",
    "\n",
    "\n",
    "\n",
    "  \n",
    "print(sum)"
   ]
  },
  {
   "cell_type": "code",
   "execution_count": null,
   "id": "8b57a1a3",
   "metadata": {},
   "outputs": [
    {
     "name": "stdout",
     "output_type": "stream",
     "text": [
      "-23\n"
     ]
    }
   ],
   "source": [
    "# find max  \n",
    "x = [1,2,3,4,5,13]\n",
    "c = x[1] \n",
    "for i in x:\n",
    "  if i>c:\n",
    "    c=i\n",
    "print(c)"
   ]
  },
  {
   "cell_type": "code",
   "execution_count": null,
   "id": "cc0bef47",
   "metadata": {},
   "outputs": [
    {
     "name": "stdout",
     "output_type": "stream",
     "text": [
      "4345 4324 423\n"
     ]
    }
   ],
   "source": [
    "# find frist second and third largest number in list\n",
    "x = [234,25,4345,4345,5,4,234,234,32,423,423,4324]\n",
    "l1= x[0]\n",
    "l2= x[1]\n",
    "l3= x[2]\n",
    "for val in x:\n",
    "  if val > l1:\n",
    "    l3 = l2\n",
    "    l2 = l1 \n",
    "    l1= val\n",
    "  elif val > l2 and val != l1 :\n",
    "    l3 = l2 \n",
    "    l2=val\n",
    "  elif val >l3  and val != l1 and val != l2:\n",
    "    l3 = val\n",
    "print(l1, l2, l3)"
   ]
  },
  {
   "cell_type": "code",
   "execution_count": null,
   "id": "5ec9e1b0",
   "metadata": {},
   "outputs": [
    {
     "name": "stdout",
     "output_type": "stream",
     "text": [
      "6\n"
     ]
    }
   ],
   "source": [
    "x = [1,2,3,4,5,6]\n",
    "c =0\n",
    "for i in x:\n",
    "  if i>c:\n",
    "   c=i\n",
    "print(c)"
   ]
  },
  {
   "cell_type": "code",
   "execution_count": null,
   "id": "64f65399",
   "metadata": {},
   "outputs": [
    {
     "name": "stdout",
     "output_type": "stream",
     "text": [
      "[3, 4, 3, 4, 5, 4, 5, 4, 7, 6, 35, 4, 32]\n"
     ]
    }
   ],
   "source": [
    "# reverse list \n",
    "a = [32,4,35,6,7,4,5,4,5,4,3,4,3]\n",
    "b = a[::-1]\n",
    "print(b)"
   ]
  },
  {
   "cell_type": "code",
   "execution_count": null,
   "id": "effa50a4",
   "metadata": {},
   "outputs": [
    {
     "name": "stdout",
     "output_type": "stream",
     "text": [
      "[6346346, 363, 54, 346, 135, 43, 633, 452, 7, 6, 6, 35, 4, 4]\n"
     ]
    }
   ],
   "source": [
    "# reserve list \n",
    "val= [4,4,35,6,6,7,452,633,43,135,346,54,363,6346346]\n",
    "n = len(val)\n",
    "for i in range(n//2):\n",
    "  temp = val[i]\n",
    "  val[i] = val[n-i-1]\n",
    "  val[n-i-1] = temp\n",
    "print(val)\n"
   ]
  },
  {
   "cell_type": "code",
   "execution_count": null,
   "id": "24a6da42",
   "metadata": {},
   "outputs": [
    {
     "name": "stdout",
     "output_type": "stream",
     "text": [
      "20\n"
     ]
    }
   ],
   "source": [
    "# sum of list\n",
    "\n",
    "x = [1,2,3,4,5,5]\n",
    "c = 0 \n",
    "for i in x:\n",
    "\n",
    "   c += i\n",
    "\n",
    "print(c)"
   ]
  }
 ],
 "metadata": {
  "kernelspec": {
   "display_name": "base",
   "language": "python",
   "name": "python3"
  },
  "language_info": {
   "codemirror_mode": {
    "name": "ipython",
    "version": 3
   },
   "file_extension": ".py",
   "mimetype": "text/x-python",
   "name": "python",
   "nbconvert_exporter": "python",
   "pygments_lexer": "ipython3",
   "version": "3.13.5"
  }
 },
 "nbformat": 4,
 "nbformat_minor": 5
}
